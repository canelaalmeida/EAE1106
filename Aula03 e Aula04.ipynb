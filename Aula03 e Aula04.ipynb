{
 "cells": [
  {
   "cell_type": "markdown",
   "id": "eac49fd1",
   "metadata": {},
   "source": [
    "<br>\n",
    "<p style=\"text-align: center;\"><font size=6><b>EAE1106 - Métodos Computacionais para Economistas</b></font></p>\n",
    "\n",
    "<p style=\"text-align: center;\"> Departamento de Economia | Faculdade de Economia, Administração, Contabilidade e Atuaria <br> Universidade de São Paulo <br><br></p>\n",
    "    \n",
    "<p style=\"text-align: center;\"><font size=4>Prof. Danilo Souza e Prof. Claudio Lucinda</font> <br>\n",
    "    <a href=\"https://www.danilosouza.com/teaching/eae1106\">danilosouza.com/teaching/eae1106</a> | <a href=\"https://github.com/claudiolucinda/EAE1106\">github.com/claudiolucinda/EAE1106</a>\n",
    "    <br><br>\n",
    "</p>\n",
    "\n",
    "\n",
    "<p style=\"text-align: center;\">2º semestre de 2022</p>\n",
    "<hr>"
   ]
  },
  {
   "cell_type": "markdown",
   "id": "140b5f62",
   "metadata": {},
   "source": [
    "<font size=6><b>Aula 03 e Aula 04 </b></font>\n",
    "<br><br>\n",
    "\n",
    "Nessas duas aulas trabalharemos essencialmente com os objetos básicos do Python. A ideia é apresentar listas, dicionários, tuplas e strings e as funções nativas que o Python traz para trabalhar com cada um desses tipos de objetos. Formalmente, seguiremos a ordem abaixo:"
   ]
  },
  {
   "cell_type": "markdown",
   "id": "e213193d",
   "metadata": {
    "toc": true
   },
   "source": [
    "<h1>Plano de aula<span class=\"tocSkip\"></span></h1>\n",
    "<div class=\"toc\"><ul class=\"toc-item\"><li><span><a href=\"#Strings\" data-toc-modified-id=\"Strings-1\"><span class=\"toc-item-num\">1&nbsp;&nbsp;</span>Strings</a></span><ul class=\"toc-item\"><li><span><a href=\"#Operações-básicas\" data-toc-modified-id=\"Operações-básicas-1.1\"><span class=\"toc-item-num\">1.1&nbsp;&nbsp;</span>Operações básicas</a></span></li><li><span><a href=\"#Métodos-de-strings\" data-toc-modified-id=\"Métodos-de-strings-1.2\"><span class=\"toc-item-num\">1.2&nbsp;&nbsp;</span>Métodos de strings</a></span></li><li><span><a href=\"#Formatação-e-a-instrução-print\" data-toc-modified-id=\"Formatação-e-a-instrução-print-1.3\"><span class=\"toc-item-num\">1.3&nbsp;&nbsp;</span>Formatação e a instrução print</a></span></li><li><span><a href=\"#Introdução-a-expressões-regulares\" data-toc-modified-id=\"Introdução-a-expressões-regulares-1.4\"><span class=\"toc-item-num\">1.4&nbsp;&nbsp;</span>Introdução a expressões regulares</a></span></li></ul></li><li><span><a href=\"#Listas\" data-toc-modified-id=\"Listas-2\"><span class=\"toc-item-num\">2&nbsp;&nbsp;</span>Listas</a></span><ul class=\"toc-item\"><li><span><a href=\"#Operações-básicas\" data-toc-modified-id=\"Operações-básicas-2.1\"><span class=\"toc-item-num\">2.1&nbsp;&nbsp;</span>Operações básicas</a></span></li><li><span><a href=\"#Métodos-de-listas\" data-toc-modified-id=\"Métodos-de-listas-2.2\"><span class=\"toc-item-num\">2.2&nbsp;&nbsp;</span>Métodos de listas</a></span></li><li><span><a href=\"#ADENDO:-Operadores-lógicos-e-variáveis-booleanas\" data-toc-modified-id=\"ADENDO:-Operadores-lógicos-e-variáveis-booleanas-2.3\"><span class=\"toc-item-num\">2.3&nbsp;&nbsp;</span>ADENDO: Operadores lógicos e variáveis booleanas</a></span><ul class=\"toc-item\"><li><span><a href=\"#Execução-condicional\" data-toc-modified-id=\"Execução-condicional-2.3.1\"><span class=\"toc-item-num\">2.3.1&nbsp;&nbsp;</span>Execução condicional</a></span></li><li><span><a href=\"#Execução-alternativa\" data-toc-modified-id=\"Execução-alternativa-2.3.2\"><span class=\"toc-item-num\">2.3.2&nbsp;&nbsp;</span>Execução alternativa</a></span></li><li><span><a href=\"#Condicionais-encadeadas\" data-toc-modified-id=\"Condicionais-encadeadas-2.3.3\"><span class=\"toc-item-num\">2.3.3&nbsp;&nbsp;</span>Condicionais encadeadas</a></span></li></ul></li></ul></li><li><span><a href=\"#Tuplas\" data-toc-modified-id=\"Tuplas-3\"><span class=\"toc-item-num\">3&nbsp;&nbsp;</span>Tuplas</a></span><ul class=\"toc-item\"><li><span><a href=\"#Operações-básicas\" data-toc-modified-id=\"Operações-básicas-3.1\"><span class=\"toc-item-num\">3.1&nbsp;&nbsp;</span>Operações básicas</a></span></li><li><span><a href=\"#Atribuição-de-tuplas\" data-toc-modified-id=\"Atribuição-de-tuplas-3.2\"><span class=\"toc-item-num\">3.2&nbsp;&nbsp;</span>Atribuição de tuplas</a></span></li><li><span><a href=\"#Tuplas-como-valores-de-retorno\" data-toc-modified-id=\"Tuplas-como-valores-de-retorno-3.3\"><span class=\"toc-item-num\">3.3&nbsp;&nbsp;</span>Tuplas como valores de retorno</a></span></li><li><span><a href=\"#Operações-nativas-com-tuplas\" data-toc-modified-id=\"Operações-nativas-com-tuplas-3.4\"><span class=\"toc-item-num\">3.4&nbsp;&nbsp;</span>Operações nativas com tuplas</a></span></li></ul></li><li><span><a href=\"#Dicionários\" data-toc-modified-id=\"Dicionários-4\"><span class=\"toc-item-num\">4&nbsp;&nbsp;</span>Dicionários</a></span><ul class=\"toc-item\"><li><span><a href=\"#Operações-básicas\" data-toc-modified-id=\"Operações-básicas-4.1\"><span class=\"toc-item-num\">4.1&nbsp;&nbsp;</span>Operações básicas</a></span></li><li><span><a href=\"#Métodos-de-dicionários\" data-toc-modified-id=\"Métodos-de-dicionários-4.2\"><span class=\"toc-item-num\">4.2&nbsp;&nbsp;</span>Métodos de dicionários</a></span></li></ul></li><li><span><a href=\"#Exercícios\" data-toc-modified-id=\"Exercícios-5\"><span class=\"toc-item-num\">5&nbsp;&nbsp;</span>Exercícios</a></span></li></ul></div>"
   ]
  },
  {
   "cell_type": "markdown",
   "id": "bf554e99",
   "metadata": {},
   "source": [
    "***"
   ]
  },
  {
   "cell_type": "markdown",
   "id": "de4efd76-bf86-4036-b882-352ab99a9380",
   "metadata": {},
   "source": [
    "# Strings\n",
    "\n",
    "Strings não são como números inteiros ou de ponto flutuate. No Python, uma string nada mais é do que uma sequência ordenada de caracteres unicode. Eles são delimitados sempre por aspas (simplas ou duplas). Relembrando nosso primeiro \"programa\" da aula passada podemos atribuir a uma variável a string _Hello, World_ usando aspas."
   ]
  },
  {
   "cell_type": "code",
   "execution_count": 1,
   "id": "6b90c618",
   "metadata": {},
   "outputs": [
    {
     "name": "stdout",
     "output_type": "stream",
     "text": [
      "Hello, World\n",
      "<class 'str'>\n"
     ]
    }
   ],
   "source": [
    "str1 = 'Hello, World'\n",
    "\n",
    "print(str1)\n",
    "print(type(str1))"
   ]
  },
  {
   "cell_type": "markdown",
   "id": "e20a3686",
   "metadata": {},
   "source": [
    "Usando aspas duplas o resultado seria o mesmo"
   ]
  },
  {
   "cell_type": "code",
   "execution_count": 2,
   "id": "1187cc3f",
   "metadata": {},
   "outputs": [
    {
     "name": "stdout",
     "output_type": "stream",
     "text": [
      "Hello, World\n",
      "<class 'str'>\n"
     ]
    }
   ],
   "source": [
    "str2 = \"Hello, World\"\n",
    "\n",
    "print(str2)\n",
    "print(type(str2))"
   ]
  },
  {
   "cell_type": "markdown",
   "id": "637ddf34",
   "metadata": {},
   "source": [
    "Note que podemos também usar uma sequência de três aspas duplas e escrever strings que percorrem várias linhas. "
   ]
  },
  {
   "cell_type": "code",
   "execution_count": 3,
   "id": "9c5617f5",
   "metadata": {},
   "outputs": [
    {
     "name": "stdout",
     "output_type": "stream",
     "text": [
      "Das Utopias\n",
      "\n",
      "Se as coisas são inatingíveis...ora!\n",
      "Não é motivo para não querê-las...\n",
      "Que tristes os caminhos, se não fora\n",
      "A presença distante das estrelas!\n",
      "           \n",
      "Mario Quintana \n",
      "\n",
      "<class 'str'>\n"
     ]
    }
   ],
   "source": [
    "str3 = \"\"\"Das Utopias\n",
    "\n",
    "Se as coisas são inatingíveis...ora!\n",
    "Não é motivo para não querê-las...\n",
    "Que tristes os caminhos, se não fora\n",
    "A presença distante das estrelas!\n",
    "           \n",
    "Mario Quintana \n",
    "\"\"\"\n",
    "\n",
    "print(str3)\n",
    "print(type(str3))"
   ]
  },
  {
   "cell_type": "markdown",
   "id": "c488274f",
   "metadata": {},
   "source": [
    "## Operações básicas\n",
    "\n",
    "Por ser uma sequência de caracteres e não um número, operações aritméticas (em geral) não são permitidas, mas outras operações, como _slicing_, o são. É possível acessar um caracter específico da sequência utilizando a posição desse caractere, utilizando o que chamamos de **índice**. No caso do string _'Hello, World'_, para acessar a segunda letra podemos utilizar colchetes após o string e dentro dele o índice referente à posição do 'e' no string:"
   ]
  },
  {
   "cell_type": "code",
   "execution_count": 4,
   "id": "1fde8af3",
   "metadata": {},
   "outputs": [
    {
     "name": "stdout",
     "output_type": "stream",
     "text": [
      "Hello, World\n"
     ]
    }
   ],
   "source": [
    "print(str1)"
   ]
  },
  {
   "cell_type": "code",
   "execution_count": 5,
   "id": "5bccb343",
   "metadata": {},
   "outputs": [
    {
     "data": {
      "text/plain": [
       "'l'"
      ]
     },
     "execution_count": 5,
     "metadata": {},
     "output_type": "execute_result"
    }
   ],
   "source": [
    "str1[2]"
   ]
  },
  {
   "cell_type": "markdown",
   "id": "6b985170",
   "metadata": {},
   "source": [
    "Ué, mas porque que obtivemos como resposta o caractere 'l', que é o 3º na sequência, e não o 'e', que é o 2º elemento? Aqui vai uma particularidade da sintaxe do Python: **em se tratando de índices, o Python sempre começa a contagem em 0!**. Dessa forma, para acessar o primeiro caractere de _'Hello, World'_ devemos pedir `str1[0]`, para acessar o segundo é preciso pedir `str1[1]` e assim por diante."
   ]
  },
  {
   "cell_type": "code",
   "execution_count": 6,
   "id": "8950d96e",
   "metadata": {},
   "outputs": [
    {
     "data": {
      "text/plain": [
       "'e'"
      ]
     },
     "execution_count": 6,
     "metadata": {},
     "output_type": "execute_result"
    }
   ],
   "source": [
    "str1[1]"
   ]
  },
  {
   "cell_type": "markdown",
   "id": "94790a40",
   "metadata": {},
   "source": [
    "Podemos acessar contando de trás para frente e usando um índice negativo"
   ]
  },
  {
   "cell_type": "code",
   "execution_count": 7,
   "id": "ff05ec56",
   "metadata": {},
   "outputs": [
    {
     "data": {
      "text/plain": [
       "'e'"
      ]
     },
     "execution_count": 7,
     "metadata": {},
     "output_type": "execute_result"
    }
   ],
   "source": [
    "str1[-11]"
   ]
  },
  {
   "cell_type": "markdown",
   "id": "53a410f3",
   "metadata": {},
   "source": [
    "É possível que o índice seja uma expressão, mas deve sempre ser um valor inteiro."
   ]
  },
  {
   "cell_type": "code",
   "execution_count": 8,
   "id": "8f939afa",
   "metadata": {},
   "outputs": [
    {
     "data": {
      "text/plain": [
       "'e'"
      ]
     },
     "execution_count": 8,
     "metadata": {},
     "output_type": "execute_result"
    }
   ],
   "source": [
    "n=0\n",
    "str1[n+1]"
   ]
  },
  {
   "cell_type": "code",
   "execution_count": 9,
   "id": "267311c9",
   "metadata": {},
   "outputs": [
    {
     "ename": "TypeError",
     "evalue": "string indices must be integers",
     "output_type": "error",
     "traceback": [
      "\u001b[1;31m---------------------------------------------------------------------------\u001b[0m",
      "\u001b[1;31mTypeError\u001b[0m                                 Traceback (most recent call last)",
      "Input \u001b[1;32mIn [9]\u001b[0m, in \u001b[0;36m<cell line: 1>\u001b[1;34m()\u001b[0m\n\u001b[1;32m----> 1\u001b[0m \u001b[43mstr1\u001b[49m\u001b[43m[\u001b[49m\u001b[38;5;241;43m1.5\u001b[39;49m\u001b[43m]\u001b[49m\n",
      "\u001b[1;31mTypeError\u001b[0m: string indices must be integers"
     ]
    }
   ],
   "source": [
    "str1[1.5]"
   ]
  },
  {
   "cell_type": "markdown",
   "id": "92d32474",
   "metadata": {},
   "source": [
    "Para acessar uma **fatia** (_slice_) do string podemos utilizar um intervalo de índices (inclusive o índice inicial e exclusive o índice final). Por exemplo,"
   ]
  },
  {
   "cell_type": "code",
   "execution_count": 10,
   "id": "7c8f3b87",
   "metadata": {},
   "outputs": [
    {
     "data": {
      "text/plain": [
       "'Hello'"
      ]
     },
     "execution_count": 10,
     "metadata": {},
     "output_type": "execute_result"
    }
   ],
   "source": [
    "str1[0:5]"
   ]
  },
  {
   "cell_type": "markdown",
   "id": "997d77e5",
   "metadata": {},
   "source": [
    "Além de ser possível calcular o número de caracteres em uma sequência string utilizando a função integrada `len()`, podemos \"concatenar\" ou \"somar\" strings utilizando apenas o sinal de + "
   ]
  },
  {
   "cell_type": "code",
   "execution_count": 11,
   "id": "88d0664e",
   "metadata": {},
   "outputs": [
    {
     "data": {
      "text/plain": [
       "12"
      ]
     },
     "execution_count": 11,
     "metadata": {},
     "output_type": "execute_result"
    }
   ],
   "source": [
    "len(str1)"
   ]
  },
  {
   "cell_type": "code",
   "execution_count": 12,
   "id": "8cb1eebf",
   "metadata": {},
   "outputs": [
    {
     "data": {
      "text/plain": [
       "'Hello, World --- Hello, World'"
      ]
     },
     "execution_count": 12,
     "metadata": {},
     "output_type": "execute_result"
    }
   ],
   "source": [
    "str1 + ' --- ' + str2"
   ]
  },
  {
   "cell_type": "markdown",
   "id": "c8054a12",
   "metadata": {},
   "source": [
    "Note, porém, que strings são **imutáveis**, de modo que caso queira substituir um dos caracteres dentro de um string é preciso utilizar uma função específica para isso ou criar um novo string derivado do 1º. Apenas tentar substituir um dos caracteres de um string já definido não é permitido."
   ]
  },
  {
   "cell_type": "code",
   "execution_count": 13,
   "id": "09b6653b",
   "metadata": {},
   "outputs": [
    {
     "ename": "TypeError",
     "evalue": "'str' object does not support item assignment",
     "output_type": "error",
     "traceback": [
      "\u001b[1;31m---------------------------------------------------------------------------\u001b[0m",
      "\u001b[1;31mTypeError\u001b[0m                                 Traceback (most recent call last)",
      "Input \u001b[1;32mIn [13]\u001b[0m, in \u001b[0;36m<cell line: 2>\u001b[1;34m()\u001b[0m\n\u001b[0;32m      1\u001b[0m \u001b[38;5;66;03m# Tentemos substituir o 'e' do str1 por 'a'\u001b[39;00m\n\u001b[1;32m----> 2\u001b[0m str1[\u001b[38;5;241m1\u001b[39m] \u001b[38;5;241m=\u001b[39m \u001b[38;5;124m'\u001b[39m\u001b[38;5;124ma\u001b[39m\u001b[38;5;124m'\u001b[39m\n",
      "\u001b[1;31mTypeError\u001b[0m: 'str' object does not support item assignment"
     ]
    }
   ],
   "source": [
    "# Tentemos substituir o 'e' do str1 por 'a'\n",
    "str1[1] = 'a'"
   ]
  },
  {
   "cell_type": "markdown",
   "id": "74064ad9",
   "metadata": {},
   "source": [
    "## Métodos de strings\n",
    "\n",
    "As strings oferecem métodos que executam várias operações úteis. Um método é em essência uma sequência de instruções encapsuladas dentro de um único comando que recebe argumentos e devolve um valor. Embora a sintaxe seja diferente, a ideia é a mesma quando falamos de funções, objeto do nosso estudo daqui algumas aulas.\n",
    "\n",
    "No caso dos métodos, temos que passar o nome da string que foi definida anteriormente seguida de '.' e depois do comando relacionado ao método específico. Dentre os principais métodos aplicáveis a strings e suas funcionalidades podemos citar:\n",
    "<br><br>\n",
    "\n",
    "1. **str_example.upper()**: devolve a string 'str_example' toda em letras maiúsculas.\n",
    "<br>\n",
    "\n",
    "2. **str_example.lower()**: devolve a string 'str_example' toda em letras minúsculas.\n",
    "<br>\n",
    "\n",
    "3. **str_example.strip()**: devolve a string 'str_example' retirando possíveis espaços em branco no início e no fim da string.\n",
    "<br>\n",
    "\n",
    "4. **str_example.startswith('xyz')**: testa se a string 'str_example' começa com a string 'xyz'.\n",
    "<br>\n",
    "\n",
    "5. **str_example.endswith('xyz')**: testa se a string 'str_example' termina com a string 'xyz'.\n",
    "<br>\n",
    "\n",
    "6. **str_example.find('xyz')**: procura a string 'xyz' dentro de 'str_example' e retorna o primeiro índice onde 'xyz' começa ou retorna -1 se nada for encontrado.\n",
    "<br>\n",
    "\n",
    "7. **str_example.replace('old','new')**: retorna uma string nova onde todas as ocorrências de 'old' encontradas em 'str_example' serão substituídas por 'new'.\n",
    "<br><br>\n",
    "\n",
    "Além desses principais, existem outros vários métodos para strings. Esse [link](https://docs.python.org/pt-br/3/library/stdtypes.html#textseq) é um bom ponto de partida para quem quiser conhecer outros exemplos."
   ]
  },
  {
   "cell_type": "code",
   "execution_count": 14,
   "id": "b4be85a4",
   "metadata": {
    "scrolled": true
   },
   "outputs": [
    {
     "name": "stdout",
     "output_type": "stream",
     "text": [
      " HELLO, WORLD \n",
      " hello, world \n"
     ]
    }
   ],
   "source": [
    "str1 = ' Hello, World '\n",
    "\n",
    "print(str1.upper())\n",
    "print(str1.lower())"
   ]
  },
  {
   "cell_type": "code",
   "execution_count": 15,
   "id": "deeeaa64",
   "metadata": {},
   "outputs": [
    {
     "name": "stdout",
     "output_type": "stream",
     "text": [
      "Hello, World\n"
     ]
    }
   ],
   "source": [
    "print(str1.strip())"
   ]
  },
  {
   "cell_type": "code",
   "execution_count": 16,
   "id": "be3e8776",
   "metadata": {},
   "outputs": [
    {
     "name": "stdout",
     "output_type": "stream",
     "text": [
      "True\n",
      "False\n"
     ]
    }
   ],
   "source": [
    "print(str1.startswith(' '))\n",
    "print(str1.endswith('d'))"
   ]
  },
  {
   "cell_type": "code",
   "execution_count": 17,
   "id": "14ea2522",
   "metadata": {},
   "outputs": [
    {
     "name": "stdout",
     "output_type": "stream",
     "text": [
      "6\n"
     ]
    }
   ],
   "source": [
    "print(str1.find(','))"
   ]
  },
  {
   "cell_type": "code",
   "execution_count": 18,
   "id": "3ff53781",
   "metadata": {},
   "outputs": [
    {
     "name": "stdout",
     "output_type": "stream",
     "text": [
      " World, World \n"
     ]
    }
   ],
   "source": [
    "print(str1.replace('Hello','World'))"
   ]
  },
  {
   "cell_type": "markdown",
   "id": "ac41d9e8",
   "metadata": {},
   "source": [
    "## Formatação e a instrução print\n",
    "\n",
    "Um método sobre o qual não falamos, mas que é bastante interessante quando queremos, por exemplo, printar bonitinho o resultado de determinada operação é `s.format()`. Com esse método podemos converter uma variável numérica para uma formato específico e printá-la dentro de um string maior. Imagine, por exemplo, que estejamos interessados em printar o valor de $\\pi$ arredondado para 2 casas decimais apenas dentro de um string que diz isso. Podemos implementar isso da seguinte forma"
   ]
  },
  {
   "cell_type": "code",
   "execution_count": 19,
   "id": "6e3869ce",
   "metadata": {},
   "outputs": [
    {
     "name": "stdout",
     "output_type": "stream",
     "text": [
      "O valor de pi arredondado para 2 casas decimais é 3.14. Interessante, não?\n"
     ]
    }
   ],
   "source": [
    "pi = 3.1415926535\n",
    "print('O valor de pi arredondado para 2 casas decimais é {:.2f}. Interessante, não?'.format(pi))"
   ]
  },
  {
   "cell_type": "markdown",
   "id": "814f0c81",
   "metadata": {},
   "source": [
    "Os colchetes dentro do string mostram onde que o número deve aparecer. Mais do que isso, definimos dentro do colchete o formato do número. Após os ':', o '.2' significa que queremos 2 casas decimais enquanto 'f' significa que queremos um formato de ponto fixo. Não vou entrar nos detalhes de todas as formatações possíveis, mas podemos ver um pouco mais disso [aqui](https://www.w3schools.com/python/ref_string_format.asp). \n",
    "\n",
    "Podemos também usar mais de um número dentro do mesmo método format. Por exemplo,"
   ]
  },
  {
   "cell_type": "code",
   "execution_count": 20,
   "id": "9606ba00",
   "metadata": {},
   "outputs": [
    {
     "name": "stdout",
     "output_type": "stream",
     "text": [
      "O valor de pi arredondado para 2 casas decimais é 3.14. Com 4 casas decimais, no entanto, o número é um pouco maior e igual a 3.1416. Interessante, não?\n"
     ]
    }
   ],
   "source": [
    "print('O valor de pi arredondado para 2 casas decimais é {:.2f}. Com 4 casas decimais, no entanto, o número é um pouco maior e igual a {:.4f}. Interessante, não?'.format(pi,pi))"
   ]
  },
  {
   "cell_type": "markdown",
   "id": "cf29d816",
   "metadata": {},
   "source": [
    "## Introdução a expressões regulares"
   ]
  },
  {
   "cell_type": "markdown",
   "id": "fe6bcbb3",
   "metadata": {},
   "source": [
    "Por vezes queremos encontrar um padrão específico de texto (e.g., placas de carro, e-mails ou números de telefone) dentro de um texto maior, para realizar algum tipo de coleta, limpeza ou mesmo substituição que um simples `str.replace()` não dá conta. Para realizar tal ação podemos utilizar as famosas **Expressões Regulares**, também conhecidas como _Regular Expressions_ no inglês, ou simplesmente _Regex_. \n",
    "\n",
    "As expressões regulares são em essência uma potente linguagem para especificar padrões de texto. De forma mais detalhada, é uma composição dos chamados **metacaracteres**, caracteres com funções especiais, que, agrupados entre si e em conjunto com caracteres literais, formam uma sequência, uma expressão. Essa expressão é interpretada como uma regra que indicará sucesso se uma entrada de dados qualquer casar com essa regra, ou seja, obedecer exatamente a todas as suas condições. \n",
    "\n",
    "Imagine que você tenha o string abaixo, que mostra o texto de um trecho de uma notícia da CNN sobre o resultado da Pesquisa Datafolha para presidente divulgada em 18/08/2022 (link para a matéria completa [aqui](https://www.cnnbrasil.com.br/politica/pesquisa-datafolha-para-presidente-lula-tem-47-bolsonaro-32/))."
   ]
  },
  {
   "cell_type": "code",
   "execution_count": 21,
   "id": "78bc6869",
   "metadata": {},
   "outputs": [
    {
     "name": "stdout",
     "output_type": "stream",
     "text": [
      "\n",
      "Pesquisa Datafolha divulgada nesta quinta-feira (18) mostra o ex-presidente Luiz Inácio Lula da Silva (PT) à frente, \n",
      "com 47% das intenções de voto na corrida pelo Palácio do Planalto. O presidente Jair Bolsonaro (PL) tem 32%. \n",
      "O primeiro turno das eleições acontece em 2 de outubro.\n",
      "\n",
      "Na sequência, aparecem Ciro Gomes (PDT), com 7%; Simone Tebet (MDB), com 2%, e Vera Lúcia (PSTU), com 1%.\n",
      "\n"
     ]
    }
   ],
   "source": [
    "pesquisa = \"\"\"\n",
    "Pesquisa Datafolha divulgada nesta quinta-feira (18) mostra o ex-presidente Luiz Inácio Lula da Silva (PT) à frente, \n",
    "com 47% das intenções de voto na corrida pelo Palácio do Planalto. O presidente Jair Bolsonaro (PL) tem 32%. \n",
    "O primeiro turno das eleições acontece em 2 de outubro.\n",
    "\n",
    "Na sequência, aparecem Ciro Gomes (PDT), com 7%; Simone Tebet (MDB), com 2%, e Vera Lúcia (PSTU), com 1%.\n",
    "\"\"\"\n",
    "\n",
    "print(pesquisa)"
   ]
  },
  {
   "cell_type": "markdown",
   "id": "44bd974f",
   "metadata": {},
   "source": [
    "E se quiséssemos, por exemplo, substituir todas as porcentagens de intenção de voto por 'ZZZ'? Note que as porcentagens são diferentes e não há uma repetição dos números que nos permita usar o `str.replace()` de uma vez só. No entanto, todas as porcentagens são representadas por 1 ou 2 números inteiros seguidos do símbolo $\\%$. Nesse caso, o mais indicado é utilizar as expressões regulares.\n",
    "\n",
    "Os módulos e funções nativas do Python não nos trazem muito material para trabalhar com expressões regulares. Para operar com elas utilizaremos uma biblioteca de comandos chamada `re`. Para trazer para dentro do Python as funcionalidades dessa biblioteca precisamos utilizar a função `import` seguida do nome da biblioteca."
   ]
  },
  {
   "cell_type": "code",
   "execution_count": 22,
   "id": "92958725",
   "metadata": {},
   "outputs": [],
   "source": [
    "import re"
   ]
  },
  {
   "cell_type": "markdown",
   "id": "21c634e4",
   "metadata": {},
   "source": [
    "Falaremos mais sobre importação de bibliotecas de comandos e funções mais a frente, mas por hora tenha na cabeça que para utilizar um conjunto de instruções disponível em alguma biblioteca importada é preciso utilizar o nome da biblioteca seguido de ponto e do nome da função dessa biblioteca que você quer utilizar. No caso, para realizar a substituição das porcentagens no string _pesquisa_ utilizaremos a função `sub()` de dentro da biblioteca `re`. Mas o que devemos colocar como input dessa função?\n",
    "\n",
    "O mundo das expressões regulares é um mundo gigante e à parte, com conteúdo suficiente para preencher um outro curso. De forma geral, a combinação entre metacaracteres e caracteres literais é o que dá o padrão do texto pelo qual procuramos. Alguns dos metacaracteres-padrão são `. ? * + ^ | [ ] { } ( ) \\`, cada um realizando uma função específica. Para o nosso caso utilizaremos basicamente a expressão regular dada por \n",
    "\n",
    "`[0-9]{1,2}%`\n",
    "\n",
    "Mas o que essa coisa bizarra diz de fato? A função buscará todo e qualquer elemento dentro dos colchetes (no caso os dígitos numéricos) que apareça uma ou duas vezes (código dentro dos colchetes) e que seja seguido pelo símbolo de porcentagem. Note que esse é o padrão de qualquer uma das porcentagens no nosso string _pesquisa_. Vamos ver o que acontece se usarmos isso dentro de `re.sub()`."
   ]
  },
  {
   "cell_type": "code",
   "execution_count": 23,
   "id": "fededa5a",
   "metadata": {},
   "outputs": [],
   "source": [
    "pesquisa2 = re.sub('[0-9]{1,2}%','ZZZ',pesquisa)"
   ]
  },
  {
   "cell_type": "code",
   "execution_count": 24,
   "id": "f6219f51",
   "metadata": {},
   "outputs": [
    {
     "name": "stdout",
     "output_type": "stream",
     "text": [
      "\n",
      "Pesquisa Datafolha divulgada nesta quinta-feira (18) mostra o ex-presidente Luiz Inácio Lula da Silva (PT) à frente, \n",
      "com 47% das intenções de voto na corrida pelo Palácio do Planalto. O presidente Jair Bolsonaro (PL) tem 32%. \n",
      "O primeiro turno das eleições acontece em 2 de outubro.\n",
      "\n",
      "Na sequência, aparecem Ciro Gomes (PDT), com 7%; Simone Tebet (MDB), com 2%, e Vera Lúcia (PSTU), com 1%.\n",
      "\n"
     ]
    }
   ],
   "source": [
    "print(pesquisa)"
   ]
  },
  {
   "cell_type": "code",
   "execution_count": 25,
   "id": "8d61c4b6",
   "metadata": {},
   "outputs": [
    {
     "name": "stdout",
     "output_type": "stream",
     "text": [
      "\n",
      "Pesquisa Datafolha divulgada nesta quinta-feira (18) mostra o ex-presidente Luiz Inácio Lula da Silva (PT) à frente, \n",
      "com ZZZ das intenções de voto na corrida pelo Palácio do Planalto. O presidente Jair Bolsonaro (PL) tem ZZZ. \n",
      "O primeiro turno das eleições acontece em 2 de outubro.\n",
      "\n",
      "Na sequência, aparecem Ciro Gomes (PDT), com ZZZ; Simone Tebet (MDB), com ZZZ, e Vera Lúcia (PSTU), com ZZZ.\n",
      "\n"
     ]
    }
   ],
   "source": [
    "print(pesquisa2)"
   ]
  },
  {
   "cell_type": "markdown",
   "id": "d9afe444",
   "metadata": {},
   "source": [
    "Conseguimos exatamente o que a gente queria. Boa, time!\n",
    "Mas como dissemos, o mundo de _regex_ é gigante e existem cursos e livros só para isso. Existe uma infinidade de material online e impresso. Uma boa referência introdutória é o livro [Expressões Regulares: Uma Abordagem Divertida](https://www.amazon.com.br/Express%C3%B5es-Regulares-Uma-Abordagem-Divertida/dp/8575224743). "
   ]
  },
  {
   "cell_type": "markdown",
   "id": "e72f7012",
   "metadata": {
    "tags": []
   },
   "source": [
    "# Listas\n",
    "\n",
    "Como uma string, uma lista é uma sequência de valores. Em uma string, os valores são caracteres; em uma lista, eles podem ser de qualquer tipo. Podemos ter uma lista de strings, uma lista de valores numéricos ou mesmo uma lista de listas, combinando strings, números e mesmo outros tipos de objetos que ainda veremos, como tuplas, dicionários e dataframes. \n",
    "\n",
    "Uma lista é delimitada por colchetes e os elementos, ou itens, pertencentes a ela são separados por vírgula. Para definir uma lista com 5 números inteiros, ordenados de forma sequencial e começando em 1 devemos escrever a seguinte linha de código:"
   ]
  },
  {
   "cell_type": "code",
   "execution_count": 26,
   "id": "4adf143b-f6a0-4fbb-83df-093d841f545a",
   "metadata": {},
   "outputs": [
    {
     "name": "stdout",
     "output_type": "stream",
     "text": [
      "[1, 2, 3, 4, 5]\n",
      "<class 'list'>\n"
     ]
    }
   ],
   "source": [
    "lista1 = [1,2,3,4,5]\n",
    "\n",
    "print(lista1)\n",
    "print(type(lista1))"
   ]
  },
  {
   "cell_type": "markdown",
   "id": "c5f2d472-7533-4201-be2d-ef4c3214d103",
   "metadata": {},
   "source": [
    "Podemos definir uma lista de strings, uma lista mista de strings e números, e uma lista composto por outras listas (lista aninhada):"
   ]
  },
  {
   "cell_type": "code",
   "execution_count": 27,
   "id": "93b52e0d-dc5f-4733-9434-95d235cb643b",
   "metadata": {},
   "outputs": [
    {
     "name": "stdout",
     "output_type": "stream",
     "text": [
      "['Danilo Souza', 'Claudio Lucinda']\n",
      "['Turma 2022201', 52.0, 'Turmas 2022202', 55, 'Turmas 2022221', 95]\n",
      "[[1, 2, 3, 4, 5], ['Danilo Souza', 'Claudio Lucinda']]\n"
     ]
    }
   ],
   "source": [
    "lista2 = ['Danilo Souza','Claudio Lucinda']\n",
    "lista3 = ['Turma 2022201',52.0,'Turmas 2022202',55,'Turmas 2022221',95]\n",
    "lista4 = [lista1, lista2]\n",
    "\n",
    "print(lista2)\n",
    "print(lista3)\n",
    "print(lista4)"
   ]
  },
  {
   "cell_type": "markdown",
   "id": "9f6d1f7d",
   "metadata": {},
   "source": [
    "De forma análoga à listas com elementos não vazios, é possível definir uma lista vazia utilizando apenas os colchetes:"
   ]
  },
  {
   "cell_type": "code",
   "execution_count": 28,
   "id": "2307d476",
   "metadata": {},
   "outputs": [
    {
     "name": "stdout",
     "output_type": "stream",
     "text": [
      "[]\n"
     ]
    }
   ],
   "source": [
    "lista_vazia = []\n",
    "\n",
    "print(lista_vazia)"
   ]
  },
  {
   "cell_type": "markdown",
   "id": "14ff315c",
   "metadata": {},
   "source": [
    "## Operações básicas"
   ]
  },
  {
   "cell_type": "markdown",
   "id": "69689634-cdf8-46a2-914f-3c8bd27c70f9",
   "metadata": {},
   "source": [
    "A sintaxe para acessar os elementos de uma lista é a mesma que para acessar os caracteres de uma string: o operador de colchete. A expressão dentro dos colchetes especifica o índice ou o intervalo de índices. **Lembrando que o índice no Python começa em ZERO e não em UM**"
   ]
  },
  {
   "cell_type": "code",
   "execution_count": 29,
   "id": "31704a50-df3f-481f-a693-dcb4b0dfd022",
   "metadata": {},
   "outputs": [
    {
     "name": "stdout",
     "output_type": "stream",
     "text": [
      "Danilo Souza\n",
      "Claudio Lucinda\n",
      "95\n",
      "['Turma 2022201', 52.0]\n"
     ]
    }
   ],
   "source": [
    "print(lista2[0])\n",
    "print(lista2[1])\n",
    "print(lista3[-1])\n",
    "print(lista3[0:2])"
   ]
  },
  {
   "cell_type": "markdown",
   "id": "b78abd9e",
   "metadata": {},
   "source": [
    "Diferente das strings, listas são mutáveis. Quando o operador de colchete aparece do lado esquerdo de uma atribuição, ele identifica o elemento da lista que será atribuído:"
   ]
  },
  {
   "cell_type": "code",
   "execution_count": 30,
   "id": "c8f72ba9",
   "metadata": {},
   "outputs": [
    {
     "data": {
      "text/plain": [
       "[42, 5]"
      ]
     },
     "execution_count": 30,
     "metadata": {},
     "output_type": "execute_result"
    }
   ],
   "source": [
    "numbers = [42, 123]\n",
    "numbers[1] = 5\n",
    "numbers"
   ]
  },
  {
   "cell_type": "markdown",
   "id": "7803f6aa-f8ac-4fbf-819e-0a655b27300b",
   "metadata": {},
   "source": [
    "O segundo elemento de numbers (índice 1), que era 123, agora é 5.\n",
    "\n",
    "Índices de listas funcionam da mesma forma que os índices de strings:\n",
    "\n",
    "* Qualquer expressão de números inteiros pode ser usada como índice.\n",
    "\n",
    "* Se tentar ler ou escrever um elemento que não existe, você recebe um `IndexError`.\n",
    "\n",
    "* Se um índice tiver um valor negativo, ele conta de trás para a frente, a partir do final da lista.\n",
    "\n",
    "O operador `in`, que serve ao propósito de testar a existência de determinado elemento dentro de um objeto específico, também funciona com listas:"
   ]
  },
  {
   "cell_type": "code",
   "execution_count": 31,
   "id": "cecc54f3",
   "metadata": {},
   "outputs": [
    {
     "data": {
      "text/plain": [
       "True"
      ]
     },
     "execution_count": 31,
     "metadata": {},
     "output_type": "execute_result"
    }
   ],
   "source": [
    "cheeses = ['Cheddar', 'Edam', 'Gouda']\n",
    "'Edam' in cheeses"
   ]
  },
  {
   "cell_type": "code",
   "execution_count": 32,
   "id": "f918b025",
   "metadata": {},
   "outputs": [
    {
     "data": {
      "text/plain": [
       "False"
      ]
     },
     "execution_count": 32,
     "metadata": {},
     "output_type": "execute_result"
    }
   ],
   "source": [
    "'Brie' in cheeses"
   ]
  },
  {
   "cell_type": "markdown",
   "id": "8d09a7f9",
   "metadata": {},
   "source": [
    "Assim como com strings, é possível calcular o número de elementos em uma lista utilizando a função integrada `len()` e \"concatenar\" ou \"somar\" listas utilizando apenas o sinal de + "
   ]
  },
  {
   "cell_type": "code",
   "execution_count": 33,
   "id": "b9afe875",
   "metadata": {},
   "outputs": [
    {
     "name": "stdout",
     "output_type": "stream",
     "text": [
      "3\n"
     ]
    }
   ],
   "source": [
    "print(len(cheeses))"
   ]
  },
  {
   "cell_type": "code",
   "execution_count": 34,
   "id": "3ce8c211",
   "metadata": {},
   "outputs": [
    {
     "name": "stdout",
     "output_type": "stream",
     "text": [
      "['Danilo Souza', 'Claudio Lucinda', 'Cheddar', 'Edam', 'Gouda']\n"
     ]
    }
   ],
   "source": [
    "lista_soma = lista2 + cheeses\n",
    "print(lista_soma)"
   ]
  },
  {
   "cell_type": "markdown",
   "id": "522c1572",
   "metadata": {},
   "source": [
    "## Métodos de listas\n",
    "\n",
    "As listas também possuem métodos bastante úteis, que nos facilitam a vida em várias dimensões. Dentre os principais métodos aplicáveis a listas e suas funcionalidades podemos citar:\n",
    "<br><br>\n",
    "\n",
    "1. **lista_example.append()**: adiciona um novo elemento ao fim da lista \"lista_example\".\n",
    "<br>\n",
    "\n",
    "2. **lista_example.extend(lista2)**: toma a lista \"lista_example\" como argumento e adiciona todos os elementos de lista2 como novos elementos da lista inicial.\n",
    "<br>\n",
    "\n",
    "3. **lista_example.sort()**: classifica os elementos de \"lista_example\" em ordem ascendente.\n",
    "<br>\n",
    "\n",
    "4. **lista_example.pop(n)**: exclui o elemento \"n\" de \"lista_example\" e retorna o elemento que ocupa essa mesma posição na lista. Se você não incluir um índice, ele exclui e retorna o último elemento da lista.\n",
    "<br>\n",
    "\n",
    "5. **lista_example.remove(x)**: exclui o elemento igual a \"x\" de \"lista_example\". É um método bastante útil quando queremos exclui um elemento específico, mas não sabemos sua posição dentro da lista.\n",
    "<br><br>\n",
    "\n",
    "A maior parte dos métodos de listas são nulos; eles alteram a lista e retornam None. Se você escrever `t = t.sort()` por acidente, ficará desapontado com o resultado."
   ]
  },
  {
   "cell_type": "code",
   "execution_count": 35,
   "id": "6b84563b",
   "metadata": {},
   "outputs": [
    {
     "name": "stdout",
     "output_type": "stream",
     "text": [
      "['a', 'b', 'c', 'd']\n"
     ]
    }
   ],
   "source": [
    "t = ['a', 'b', 'c']\n",
    "t.append('d')\n",
    "print(t)"
   ]
  },
  {
   "cell_type": "code",
   "execution_count": 36,
   "id": "47f44c7f",
   "metadata": {},
   "outputs": [
    {
     "name": "stdout",
     "output_type": "stream",
     "text": [
      "['a', 'b', 'c', 'd', 'e']\n"
     ]
    }
   ],
   "source": [
    "t1 = ['a', 'b', 'c']\n",
    "t2 = ['d', 'e']\n",
    "t1.extend(t2)\n",
    "print(t1)"
   ]
  },
  {
   "cell_type": "code",
   "execution_count": 37,
   "id": "87a10163",
   "metadata": {},
   "outputs": [
    {
     "name": "stdout",
     "output_type": "stream",
     "text": [
      "['a', 'b', 'c', 'd', 'e']\n"
     ]
    }
   ],
   "source": [
    "t = ['d', 'c', 'e', 'b', 'a']\n",
    "t.sort()\n",
    "print(t)"
   ]
  },
  {
   "cell_type": "code",
   "execution_count": 38,
   "id": "08a6bedc",
   "metadata": {},
   "outputs": [
    {
     "name": "stdout",
     "output_type": "stream",
     "text": [
      "['a', 'c']\n",
      "b\n"
     ]
    }
   ],
   "source": [
    "t = ['a', 'b', 'c']\n",
    "x = t.pop(1)\n",
    "print(t)\n",
    "print(x)"
   ]
  },
  {
   "cell_type": "markdown",
   "id": "ba1401b1",
   "metadata": {},
   "source": [
    "Assim como já explicamos, uma lista é uma sequência de valores e uma string é uma sequência de caracteres, mas uma lista de caracteres não é a mesma coisa que uma string. Para converter uma string em uma lista de caracteres, você pode usar o comando `list`:"
   ]
  },
  {
   "cell_type": "code",
   "execution_count": 39,
   "id": "822250a4",
   "metadata": {},
   "outputs": [
    {
     "name": "stdout",
     "output_type": "stream",
     "text": [
      "['s', 'p', 'a', 'm']\n"
     ]
    }
   ],
   "source": [
    "s = 'spam'\n",
    "t = list(s)\n",
    "print(t)"
   ]
  },
  {
   "cell_type": "markdown",
   "id": "b2034b14",
   "metadata": {},
   "source": [
    "A função `list` quebra uma string em letras individuais. Se você quiser quebrar uma string em palavras, você pode usar o método `split()`. Esse método admite um argumento adicional, chamado _delimiter_, que especifica quais caracteres podem ser usados para demonstrar os limites das palavras. Isso é muito útil, por exemplo, quando queremos separar um texto em palavras e fazer a contagem de palavras que mais se repetem. Qual caracter deveríamos passar como argumento em `split()` nesse caso?"
   ]
  },
  {
   "cell_type": "code",
   "execution_count": 40,
   "id": "2e920b55",
   "metadata": {},
   "outputs": [
    {
     "name": "stdout",
     "output_type": "stream",
     "text": [
      "['pining', 'for', 'the', 'fjords']\n"
     ]
    }
   ],
   "source": [
    "s = 'pining for the fjords'\n",
    "t = s.split(' ')\n",
    "print(t)"
   ]
  },
  {
   "cell_type": "code",
   "execution_count": 41,
   "id": "7701ae78",
   "metadata": {},
   "outputs": [
    {
     "data": {
      "text/plain": [
       "['spam', 'spam', 'spam']"
      ]
     },
     "execution_count": 41,
     "metadata": {},
     "output_type": "execute_result"
    }
   ],
   "source": [
    "s = 'spam-spam-spam'\n",
    "t = s.split('-')\n",
    "t"
   ]
  },
  {
   "cell_type": "markdown",
   "id": "92a570df",
   "metadata": {},
   "source": [
    "O método `join()` é o contrário de `split()`. Ele toma uma lista de strings e concatena os elementos. `join()`, no entanto, é um método de string, então é preciso invocá-lo no string delimitador (por exemplo, \" - \") e passar a lista de strings como parâmetro:"
   ]
  },
  {
   "cell_type": "code",
   "execution_count": 42,
   "id": "60fce05c",
   "metadata": {},
   "outputs": [
    {
     "name": "stdout",
     "output_type": "stream",
     "text": [
      "spam - spam - spam\n"
     ]
    }
   ],
   "source": [
    "t = ['spam','spam','spam']\n",
    "s = ' - '.join(t)\n",
    "print(s)"
   ]
  },
  {
   "cell_type": "markdown",
   "id": "f1b884f6",
   "metadata": {},
   "source": [
    "Além desses principais, existem outros vários métodos para listas. Esse [link](https://developers.google.com/edu/python/lists) é um bom ponto de partida para quem quiser conhecer outros exemplos."
   ]
  },
  {
   "cell_type": "markdown",
   "id": "00e7687e",
   "metadata": {},
   "source": [
    "## ADENDO: Operadores lógicos e variáveis booleanas\n",
    "\n",
    "Agora faremos um pequeno desvio, que será bem útil daqui para frente, para falar de expressões e variáveis **booleanas**. Em resumo, uma expressão booleana é uma expressão que pode ser verdadeira ou falsa e dessa forma assumir apenas dois valores como resultado: **True** e **False**. Os exemplos seguintes usam o operador de igual no Python (==) que compara dois operandos e produz True se forem iguais e False se não forem:"
   ]
  },
  {
   "cell_type": "code",
   "execution_count": 43,
   "id": "7e7751b1",
   "metadata": {},
   "outputs": [
    {
     "data": {
      "text/plain": [
       "True"
      ]
     },
     "execution_count": 43,
     "metadata": {},
     "output_type": "execute_result"
    }
   ],
   "source": [
    "5 == 5"
   ]
  },
  {
   "cell_type": "code",
   "execution_count": 44,
   "id": "4aba9df8",
   "metadata": {},
   "outputs": [
    {
     "data": {
      "text/plain": [
       "False"
      ]
     },
     "execution_count": 44,
     "metadata": {},
     "output_type": "execute_result"
    }
   ],
   "source": [
    "5 == 6"
   ]
  },
  {
   "cell_type": "code",
   "execution_count": 45,
   "id": "afe2973f",
   "metadata": {},
   "outputs": [
    {
     "data": {
      "text/plain": [
       "False"
      ]
     },
     "execution_count": 45,
     "metadata": {},
     "output_type": "execute_result"
    }
   ],
   "source": [
    "lista1 = [1,2,3,4,5]\n",
    "lista2 = [5,4,3,2,1]\n",
    "\n",
    "lista1 == lista2"
   ]
  },
  {
   "cell_type": "markdown",
   "id": "f0f7cdf0",
   "metadata": {},
   "source": [
    "_True_ e _False_ são valores especiais que pertencem ao tipo _bool_; não são strings. Além disso, é possível fazer operações aritméticas com variáveis do tipo _bool_ já que o Python entende _True_ como sendo equivalente ao número 1 e _False_ como sendo equivalente ao número 0."
   ]
  },
  {
   "cell_type": "code",
   "execution_count": 46,
   "id": "f61aaf95",
   "metadata": {},
   "outputs": [
    {
     "name": "stdout",
     "output_type": "stream",
     "text": [
      "<class 'bool'>\n",
      "<class 'bool'>\n"
     ]
    }
   ],
   "source": [
    "print(type(True))\n",
    "print(type(False))"
   ]
  },
  {
   "cell_type": "code",
   "execution_count": 47,
   "id": "570ec580",
   "metadata": {},
   "outputs": [
    {
     "name": "stdout",
     "output_type": "stream",
     "text": [
      "2\n",
      "1\n",
      "0\n"
     ]
    }
   ],
   "source": [
    "print(True + True)\n",
    "print(True + False)\n",
    "print(False + False)"
   ]
  },
  {
   "cell_type": "markdown",
   "id": "f37cb3d0",
   "metadata": {},
   "source": [
    "O operador == é um dos operadores relacionais dentro do Python, os outros são:\n",
    "\n",
    "1. **x != y**: x não é igual a y\n",
    "2. **x > y**: x é maior que y\n",
    "3. **x < y**: x é menor que y\n",
    "4. **x >= y**: x é maior ou igual a y\n",
    "5. **x <= y**: x é menor ou igual a y\n",
    "\n",
    "Embora essas operações provavelmente sejam familiares para você, os símbolos do Python são diferentes dos símbolos matemáticos. Um erro comum é usar apenas um sinal de igual (=) em vez de um sinal duplo (==). Lembre-se de que = é um operador de atribuição e == é um operador relacional. Não existe => ou =<.\n",
    "\n",
    "Há três operadores lógicos: `and`, `or` e `not`. A semântica (significado) destes operadores é semelhante ao seu significado em inglês. Por exemplo, `x>=0 and x<=10` só é verdade se x for maior que 0 **e** menor que 10. `n%2 == 0 or n%3 == 0` é verdadeiro se uma ou as duas condição(ões) for(em) verdadeira(s), isto é, se o número n for divisível por 2 ou 3 (caso você não esteja familiarizado com a divisão pelo piso e o operador módulo, tente brincar um pouco com `//` e com `%`). Finalmente, o operador `not` nega uma expressão booleana, então `not (x > y)` é verdade se `x > y` for falso, isto é, se x for menor que ou igual a y.\n",
    "\n",
    "Falando estritamente, os operandos dos operadores lógicos devem ser expressões booleanas, mas o Python não é muito estrito. Qualquer número que não seja zero é interpretado como _True_:"
   ]
  },
  {
   "cell_type": "code",
   "execution_count": 48,
   "id": "8a8a40f8",
   "metadata": {},
   "outputs": [
    {
     "data": {
      "text/plain": [
       "True"
      ]
     },
     "execution_count": 48,
     "metadata": {},
     "output_type": "execute_result"
    }
   ],
   "source": [
    "42 and True"
   ]
  },
  {
   "cell_type": "markdown",
   "id": "7e138c9e",
   "metadata": {},
   "source": [
    "Esta flexibilidade tem sua utilidade, mas há algumas sutilezas relativas a ela que podem ser confusas. Assim, pode ser uma boa ideia evitá-la (a menos que você tenha certeza absoluta do que está fazendo)."
   ]
  },
  {
   "cell_type": "markdown",
   "id": "07a9059b",
   "metadata": {},
   "source": [
    "### Execução condicional\n",
    "\n",
    "Para escrever programas úteis, quase sempre precisamos da capacidade de verificar condições e mudar o comportamento do programa de acordo com elas. Instruções condicionais nos dão esta capacidade. A forma mais simples é a instrução `if`:"
   ]
  },
  {
   "cell_type": "code",
   "execution_count": 49,
   "id": "22bc7a6a",
   "metadata": {},
   "outputs": [
    {
     "name": "stdout",
     "output_type": "stream",
     "text": [
      "x é positivo\n"
     ]
    }
   ],
   "source": [
    "x=5\n",
    "\n",
    "if x > 0:\n",
    "    print('x é positivo')"
   ]
  },
  {
   "cell_type": "markdown",
   "id": "41adc0be",
   "metadata": {},
   "source": [
    "A expressão booleana depois do `if` é chamada de condição. Se for verdadeira, a instrução indentada é executada. Se não, nada acontece. _Aqui vale mais um adendo_: uma característica muito importante da sintaxe do Python é justamente a **identação**. Diferentemente de outras linguagens de programação, a identação exerce papel importante aqui, já que é através dela que se determina onde se inicia e onde termina um bloco de código, que pode ser uma expressão condicional ou mesmo uma função, como veremos mais a frente. Além de economizar várias chaves (\"{\" e \"}\") e vários \"end\", a identação exerce um papel estético importante ao permitir uma melhor visualização do código como um todo.\n",
    "\n",
    "Não há limite para o número de instruções que podem aparecer no corpo de uma instrução if, mas deve haver pelo menos uma. Ocasionalmente, é útil ter um corpo sem instruções (normalmente como um espaço reservado para código que ainda não foi escrito). Neste caso, você pode usar a instrução pass, que não faz nada."
   ]
  },
  {
   "cell_type": "code",
   "execution_count": 50,
   "id": "ee01babd",
   "metadata": {},
   "outputs": [],
   "source": [
    "if x < 0:\n",
    "    pass "
   ]
  },
  {
   "cell_type": "markdown",
   "id": "18303306",
   "metadata": {},
   "source": [
    "### Execução alternativa\n",
    "\n",
    "Uma segunda forma da instrução if é a “execução alternativa”, na qual há duas possibilidades e a condição determina qual será executada. A sintaxe pode ser algo assim:"
   ]
  },
  {
   "cell_type": "code",
   "execution_count": 51,
   "id": "fa7107ec",
   "metadata": {},
   "outputs": [
    {
     "name": "stdout",
     "output_type": "stream",
     "text": [
      "x é ímpar\n"
     ]
    }
   ],
   "source": [
    "x = 5\n",
    "\n",
    "if x % 2 == 0:\n",
    "    print('x é par')\n",
    "else:\n",
    "    print('x é ímpar')"
   ]
  },
  {
   "cell_type": "markdown",
   "id": "07fadb97",
   "metadata": {},
   "source": [
    "Se o resto quando x for dividido por 2 for 0, então sabemos que x é par e o programa exibe uma mensagem adequada. Se a condição for falsa, o segundo conjunto de instruções é executado. Como a condição deve ser verdadeira ou falsa, exatamente uma das alternativas será executada. As alternativas são chamadas de ramos (branches), porque são ramos no fluxo da execução.\n",
    "\n",
    "Podemos usar a instrução if para testar o tamanho de uma lista também:"
   ]
  },
  {
   "cell_type": "code",
   "execution_count": 52,
   "id": "179f9b63",
   "metadata": {},
   "outputs": [
    {
     "name": "stdout",
     "output_type": "stream",
     "text": [
      "lista1 tem mais de dois elementos\n"
     ]
    }
   ],
   "source": [
    "lista1 = [1,2,3,4,5]\n",
    "\n",
    "if len(lista1) > 2:\n",
    "    print('lista1 tem mais de dois elementos')\n",
    "else:\n",
    "    print('lista1 tem menos de dois elementos')"
   ]
  },
  {
   "cell_type": "markdown",
   "id": "98582610",
   "metadata": {},
   "source": [
    "### Condicionais encadeadas\n",
    "\n",
    "Às vezes, há mais de duas possibilidades e precisamos de mais que dois ramos. Esta forma de expressar uma operação de computação é uma condicional encadeada:"
   ]
  },
  {
   "cell_type": "code",
   "execution_count": 53,
   "id": "a4e41b59",
   "metadata": {},
   "outputs": [
    {
     "name": "stdout",
     "output_type": "stream",
     "text": [
      "x é menor do que y\n"
     ]
    }
   ],
   "source": [
    "x = 5\n",
    "y = 6\n",
    "\n",
    "if x < y:\n",
    "    print('x é menor do que y')\n",
    "elif x > y:\n",
    "    print('x é maior do que y')\n",
    "else:\n",
    "    print('x e y são iguais')"
   ]
  },
  {
   "cell_type": "markdown",
   "id": "fe8b69ce",
   "metadata": {},
   "source": [
    "`elif` é uma abreviatura de \"else if\". Novamente, exatamente um ramo será executado. Não há nenhum limite para o número de instruções elif. Se houver uma cláusula else, ela deve estar no fim, mas não é preciso haver uma. Cada condição é verificada em ordem. Se a primeira for falsa, a próxima é verificada, e assim por diante. Se uma delas for verdadeira, o ramo correspondente é executado e a instrução é encerrada. Mesmo se mais de uma condição for verdade, só o primeiro ramo verdadeiro é executado."
   ]
  },
  {
   "cell_type": "markdown",
   "id": "7d3ad29e",
   "metadata": {},
   "source": [
    "# Tuplas\n",
    "\n",
    "Agora falaremos de mais um tipo de objeto básico do Python, a tupla. Uma tupla é uma sequência de valores. Os valores podem ser de qualquer tipo, e podem ser indexados por números inteiros, portanto, nesse sentido, as tuplas são muito parecidas com as listas. A diferença importante é que as tuplas são **imutáveis**, assim como os strings.\n",
    "\n",
    "Em resumo, uma tupla é uma lista de valores separados por vírgulas e em geral delimitado por parênteses (lembre que listas são delimitadas por colchetes):"
   ]
  },
  {
   "cell_type": "code",
   "execution_count": 54,
   "id": "7b85d63e",
   "metadata": {},
   "outputs": [
    {
     "name": "stdout",
     "output_type": "stream",
     "text": [
      "<class 'tuple'>\n"
     ]
    }
   ],
   "source": [
    "t = ('a', 'b', 'c', 'd', 'e')\n",
    "\n",
    "print(type(t))"
   ]
  },
  {
   "cell_type": "markdown",
   "id": "b1174e49",
   "metadata": {},
   "source": [
    "Um único valor entre parênteses não é uma tupla. Para criar uma tupla com um único elemento, é preciso incluir uma vírgula final após o elemento, com ou sem os parênteses."
   ]
  },
  {
   "cell_type": "code",
   "execution_count": 55,
   "id": "c6b7b673",
   "metadata": {},
   "outputs": [
    {
     "name": "stdout",
     "output_type": "stream",
     "text": [
      "<class 'str'>\n",
      "<class 'tuple'>\n",
      "<class 'tuple'>\n"
     ]
    }
   ],
   "source": [
    "t1 = ('a')\n",
    "t2 = 'a',\n",
    "t3 = ('a',)\n",
    "\n",
    "print(type(t1))\n",
    "print(type(t2))\n",
    "print(type(t3))"
   ]
  },
  {
   "cell_type": "markdown",
   "id": "c19261cd",
   "metadata": {},
   "source": [
    "Outra forma de criar uma tupla é com a função integrada `tuple`. Sem argumentos, cria uma tupla vazia. Se os argumentos forem uma sequência (string, lista ou tupla), o resultado é uma tupla com os elementos da sequência:"
   ]
  },
  {
   "cell_type": "code",
   "execution_count": 56,
   "id": "153e7678",
   "metadata": {},
   "outputs": [
    {
     "name": "stdout",
     "output_type": "stream",
     "text": [
      "()\n"
     ]
    }
   ],
   "source": [
    "t = tuple()\n",
    "print(t)"
   ]
  },
  {
   "cell_type": "code",
   "execution_count": 57,
   "id": "beac9d19",
   "metadata": {},
   "outputs": [
    {
     "name": "stdout",
     "output_type": "stream",
     "text": [
      "('l', 'u', 'p', 'i', 'n', 's')\n"
     ]
    }
   ],
   "source": [
    "t = tuple('lupins')\n",
    "print(t)"
   ]
  },
  {
   "cell_type": "markdown",
   "id": "2eeb589f",
   "metadata": {},
   "source": [
    "## Operações básicas\n",
    "\n",
    "A maior parte dos operadores de lista também funciona em tuplas. O operador de colchetes indexa um elemento e o operador de fatia seleciona vários elementos."
   ]
  },
  {
   "cell_type": "code",
   "execution_count": 58,
   "id": "dca656d4",
   "metadata": {},
   "outputs": [
    {
     "name": "stdout",
     "output_type": "stream",
     "text": [
      "a\n",
      "('b', 'c')\n"
     ]
    }
   ],
   "source": [
    "t = ('a', 'b', 'c', 'd', 'e')\n",
    "print(t[0])\n",
    "print(t[1:3])"
   ]
  },
  {
   "cell_type": "markdown",
   "id": "500028ba",
   "metadata": {},
   "source": [
    "Entretanto, se tentar alterar um dos elementos da tupla, vai receber um erro:"
   ]
  },
  {
   "cell_type": "code",
   "execution_count": 59,
   "id": "0dc27b49",
   "metadata": {},
   "outputs": [
    {
     "ename": "TypeError",
     "evalue": "'tuple' object does not support item assignment",
     "output_type": "error",
     "traceback": [
      "\u001b[1;31m---------------------------------------------------------------------------\u001b[0m",
      "\u001b[1;31mTypeError\u001b[0m                                 Traceback (most recent call last)",
      "Input \u001b[1;32mIn [59]\u001b[0m, in \u001b[0;36m<cell line: 1>\u001b[1;34m()\u001b[0m\n\u001b[1;32m----> 1\u001b[0m t[\u001b[38;5;241m0\u001b[39m] \u001b[38;5;241m=\u001b[39m \u001b[38;5;124m'\u001b[39m\u001b[38;5;124mA\u001b[39m\u001b[38;5;124m'\u001b[39m\n",
      "\u001b[1;31mTypeError\u001b[0m: 'tuple' object does not support item assignment"
     ]
    }
   ],
   "source": [
    "t[0] = 'A'"
   ]
  },
  {
   "cell_type": "markdown",
   "id": "d18b3015",
   "metadata": {},
   "source": [
    "Como tuplas são imutáveis, você não pode alterar os elementos, mas pode substituir uma tupla por outra."
   ]
  },
  {
   "cell_type": "code",
   "execution_count": 60,
   "id": "92662f63",
   "metadata": {},
   "outputs": [
    {
     "name": "stdout",
     "output_type": "stream",
     "text": [
      "('A', 'b', 'c', 'd', 'e')\n"
     ]
    }
   ],
   "source": [
    "t = ('A',) + t[1:]\n",
    "print(t)"
   ]
  },
  {
   "cell_type": "markdown",
   "id": "20b98ca3",
   "metadata": {},
   "source": [
    "Os operadores relacionais funcionam com tuplas e outras sequências. O Python começa comparando o primeiro elemento de cada sequência. Se forem iguais, vai para os próximos elementos, e assim por diante, até que encontre elementos que sejam diferentes. Os elementos subsequentes não são considerados (mesmo se forem muito grandes)."
   ]
  },
  {
   "cell_type": "code",
   "execution_count": 61,
   "id": "18924816",
   "metadata": {},
   "outputs": [
    {
     "data": {
      "text/plain": [
       "True"
      ]
     },
     "execution_count": 61,
     "metadata": {},
     "output_type": "execute_result"
    }
   ],
   "source": [
    "(0, 1, 2) < (0, 3, 4)"
   ]
  },
  {
   "cell_type": "code",
   "execution_count": 62,
   "id": "d3922746",
   "metadata": {},
   "outputs": [
    {
     "data": {
      "text/plain": [
       "True"
      ]
     },
     "execution_count": 62,
     "metadata": {},
     "output_type": "execute_result"
    }
   ],
   "source": [
    "(0, 1, 2000000) < (0, 3, 4)"
   ]
  },
  {
   "cell_type": "markdown",
   "id": "9d371657",
   "metadata": {},
   "source": [
    "## Atribuição de tuplas\n",
    "\n",
    "Muitas vezes, é útil trocar os valores de duas variáveis. Com a atribuição convencional, é preciso usar uma variável temporária. Por exemplo, trocar a e b."
   ]
  },
  {
   "cell_type": "code",
   "execution_count": 63,
   "id": "898fe857",
   "metadata": {},
   "outputs": [
    {
     "name": "stdout",
     "output_type": "stream",
     "text": [
      "5\n"
     ]
    }
   ],
   "source": [
    "a=5\n",
    "b=6\n",
    "\n",
    "temp = a\n",
    "a = b\n",
    "b = temp\n",
    "\n",
    "print(b)"
   ]
  },
  {
   "cell_type": "markdown",
   "id": "8e274b5f",
   "metadata": {},
   "source": [
    "Essa solução é trabalhosa; a atribuição de tuplas é mais elegante:"
   ]
  },
  {
   "cell_type": "code",
   "execution_count": 64,
   "id": "68db4557",
   "metadata": {},
   "outputs": [
    {
     "name": "stdout",
     "output_type": "stream",
     "text": [
      "5\n"
     ]
    }
   ],
   "source": [
    "a=5\n",
    "b=6\n",
    "\n",
    "a, b = b, a\n",
    "\n",
    "print(b)"
   ]
  },
  {
   "cell_type": "markdown",
   "id": "0673118e",
   "metadata": {},
   "source": [
    "O lado esquerdo é uma tupla de variáveis e o lado direito é uma tupla de expressões. Cada valor é atribuído à sua respectiva variável. Todas as expressões no lado direito são avaliadas antes de todas as atribuições.\n",
    "\n",
    "O número de variáveis à esquerda e o número de valores à direita precisam ser iguais:"
   ]
  },
  {
   "cell_type": "code",
   "execution_count": 65,
   "id": "b4ce0e61",
   "metadata": {},
   "outputs": [
    {
     "ename": "ValueError",
     "evalue": "too many values to unpack (expected 2)",
     "output_type": "error",
     "traceback": [
      "\u001b[1;31m---------------------------------------------------------------------------\u001b[0m",
      "\u001b[1;31mValueError\u001b[0m                                Traceback (most recent call last)",
      "Input \u001b[1;32mIn [65]\u001b[0m, in \u001b[0;36m<cell line: 1>\u001b[1;34m()\u001b[0m\n\u001b[1;32m----> 1\u001b[0m a, b \u001b[38;5;241m=\u001b[39m \u001b[38;5;241m1\u001b[39m, \u001b[38;5;241m2\u001b[39m, \u001b[38;5;241m3\u001b[39m\n",
      "\u001b[1;31mValueError\u001b[0m: too many values to unpack (expected 2)"
     ]
    }
   ],
   "source": [
    "a, b = 1, 2, 3"
   ]
  },
  {
   "cell_type": "markdown",
   "id": "c11746e6",
   "metadata": {},
   "source": [
    "De forma geral, o lado direito pode ter qualquer tipo de sequência (string, lista ou tupla). Por exemplo, para dividir um endereço de email em um nome de usuário e um domínio, você poderia escrever:"
   ]
  },
  {
   "cell_type": "code",
   "execution_count": 66,
   "id": "4879ab7d",
   "metadata": {},
   "outputs": [],
   "source": [
    "addr = 'monty@python.org'\n",
    "uname, domain = addr.split('@')"
   ]
  },
  {
   "cell_type": "markdown",
   "id": "17e5066f",
   "metadata": {},
   "source": [
    "O valor de retorno do `split()` é uma lista com dois elementos; o primeiro elemento é atribuído a `uname`, o segundo a `domain`:"
   ]
  },
  {
   "cell_type": "code",
   "execution_count": 67,
   "id": "671d6b45",
   "metadata": {},
   "outputs": [
    {
     "name": "stdout",
     "output_type": "stream",
     "text": [
      "monty\n",
      "python.org\n"
     ]
    }
   ],
   "source": [
    "print(uname)\n",
    "print(domain)"
   ]
  },
  {
   "cell_type": "markdown",
   "id": "847dd91a",
   "metadata": {},
   "source": [
    "## Tuplas como valores de retorno\n",
    "\n",
    "Falando estritamente, uma função só pode retornar um valor, mas se o valor for uma tupla, o efeito é o mesmo que retornar valores múltiplos. Por exemplo, se você quiser dividir dois números inteiros e calcular o quociente e resto, não é eficiente calcular `x/y` e depois `x%y`. É melhor calcular ambos ao mesmo tempo. A função integrada `divmod` toma dois argumentos e devolve uma tupla de dois valores: o quociente e o resto da divisão do primeiro termo pelo segundo termo. Você pode guardar o resultado como uma tupla:"
   ]
  },
  {
   "cell_type": "code",
   "execution_count": 68,
   "id": "4a382ff5",
   "metadata": {},
   "outputs": [
    {
     "name": "stdout",
     "output_type": "stream",
     "text": [
      "2\n",
      "1\n"
     ]
    }
   ],
   "source": [
    "print(7//3)\n",
    "print(7%3)"
   ]
  },
  {
   "cell_type": "code",
   "execution_count": 69,
   "id": "ca1f3f33",
   "metadata": {},
   "outputs": [
    {
     "name": "stdout",
     "output_type": "stream",
     "text": [
      "(2, 1)\n",
      "<class 'tuple'>\n"
     ]
    }
   ],
   "source": [
    "t = divmod(7, 3)\n",
    "\n",
    "print(t)\n",
    "print(type(t))"
   ]
  },
  {
   "cell_type": "markdown",
   "id": "d2298b17",
   "metadata": {},
   "source": [
    "## Operações nativas com tuplas\n",
    "\n",
    "`zip` é uma função integrada que recebe duas ou mais sequências e devolve uma lista de tuplas onde cada tupla contém um elemento de cada sequência. O nome da função tem a ver com o zíper, que se junta e encaixa duas carreiras de dentes.\n",
    "\n",
    "Este exemplo encaixa uma string e uma lista:"
   ]
  },
  {
   "cell_type": "code",
   "execution_count": 70,
   "id": "3694bcd5",
   "metadata": {},
   "outputs": [
    {
     "data": {
      "text/plain": [
       "<zip at 0x210b948c600>"
      ]
     },
     "execution_count": 70,
     "metadata": {},
     "output_type": "execute_result"
    }
   ],
   "source": [
    "s = 'abc'\n",
    "t = [0, 1, 2]\n",
    "zip(s,t)"
   ]
  },
  {
   "cell_type": "markdown",
   "id": "10c114c5",
   "metadata": {},
   "source": [
    "O resultado é um objeto `zip` que sabe como percorrer os pares. O uso mais comum de `zip` é em um loop `for` (falaremos sobre loops mais adiante no curso):"
   ]
  },
  {
   "cell_type": "code",
   "execution_count": 71,
   "id": "3b6f9905",
   "metadata": {},
   "outputs": [
    {
     "name": "stdout",
     "output_type": "stream",
     "text": [
      "('a', 0)\n",
      "('b', 1)\n",
      "('c', 2)\n"
     ]
    }
   ],
   "source": [
    "for pair in zip(s, t):\n",
    "    print(pair)"
   ]
  },
  {
   "cell_type": "markdown",
   "id": "af790bef",
   "metadata": {},
   "source": [
    "Um objeto `zip` é um tipo de iterador, ou seja, qualquer objeto que percorre ou itera sobre uma sequência. Iteradores são semelhantes a listas em alguns aspectos, mas, ao contrário de listas, não é possível usar um índice para selecionar um elemento de um iterador. Se quiser usar operadores e métodos de lista, você pode usar um objeto `zip` para fazer uma lista:"
   ]
  },
  {
   "cell_type": "code",
   "execution_count": 72,
   "id": "4f7f2813",
   "metadata": {},
   "outputs": [
    {
     "data": {
      "text/plain": [
       "[('a', 0), ('b', 1), ('c', 2)]"
      ]
     },
     "execution_count": 72,
     "metadata": {},
     "output_type": "execute_result"
    }
   ],
   "source": [
    "list(zip(s, t))"
   ]
  },
  {
   "cell_type": "markdown",
   "id": "8665940f",
   "metadata": {},
   "source": [
    "O resultado é uma lista de tuplas. Neste exemplo, cada tupla contém um caractere da string e o elemento correspondente da lista. Se as sequências não forem do mesmo comprimento, o resultado tem o comprimento da mais curta:"
   ]
  },
  {
   "cell_type": "code",
   "execution_count": 73,
   "id": "dd7bb996",
   "metadata": {},
   "outputs": [
    {
     "data": {
      "text/plain": [
       "[('A', 'E'), ('n', 'l'), ('n', 'k')]"
      ]
     },
     "execution_count": 73,
     "metadata": {},
     "output_type": "execute_result"
    }
   ],
   "source": [
    "list(zip('Anne', 'Elk'))"
   ]
  },
  {
   "cell_type": "markdown",
   "id": "2b80f451",
   "metadata": {},
   "source": [
    "# Dicionários\n",
    "\n",
    "Dicionários são um outro tipo de objeto bastante importante e útil em nossas aplicações. Dicionários são um dos melhores recursos do Python, eles são os blocos de montar de muitos algoritmos eficientes e elegantes.\n",
    "\n",
    "Um dicionário se parece com uma lista, mas é mais geral. Em uma lista os índices têm que ser números inteiros, em um dicionário eles podem ser de (quase) qualquer tipo. Um dicionário contém uma coleção de índices, que se chamam **chaves** e uma coleção de valores. **Cada chave é associada com um único valor**. A associação de uma chave e um valor chama-se par chave-valor ou item.\n",
    "\n",
    "Em linguagem matemática, um dicionário representa um mapeamento de chaves a valores, para que você possa dizer que cada chave \"mostra o mapa\" a um valor. Como exemplo, vamos construir um dicionário que faz o mapa de palavras do inglês ao espanhol, portanto as chaves e os valores são todos strings.\n",
    "\n",
    "A função `dict` cria um novo dicionário sem itens. Como `dict` é o nome de uma função integrada, você deve evitar usá-lo como nome de variável."
   ]
  },
  {
   "cell_type": "code",
   "execution_count": 74,
   "id": "43a787a6",
   "metadata": {},
   "outputs": [
    {
     "data": {
      "text/plain": [
       "{}"
      ]
     },
     "execution_count": 74,
     "metadata": {},
     "output_type": "execute_result"
    }
   ],
   "source": [
    "eng2sp = dict()\n",
    "eng2sp"
   ]
  },
  {
   "cell_type": "markdown",
   "id": "dcd1773d",
   "metadata": {},
   "source": [
    "As chaves {} representam um dicionário vazio. Para acrescentar itens ao dicionário, você pode usar colchetes:"
   ]
  },
  {
   "cell_type": "code",
   "execution_count": 75,
   "id": "ff738e04",
   "metadata": {},
   "outputs": [],
   "source": [
    "eng2sp['one'] = 'uno'"
   ]
  },
  {
   "cell_type": "markdown",
   "id": "c849a1c0",
   "metadata": {},
   "source": [
    "Esta linha cria um item que mapeia da chave 'one' ao valor 'uno'. Se imprimirmos o dicionário novamente, vemos um par chave-valor com dois pontos entre a chave e o valor:"
   ]
  },
  {
   "cell_type": "code",
   "execution_count": 76,
   "id": "f0b73d0d",
   "metadata": {},
   "outputs": [
    {
     "data": {
      "text/plain": [
       "{'one': 'uno'}"
      ]
     },
     "execution_count": 76,
     "metadata": {},
     "output_type": "execute_result"
    }
   ],
   "source": [
    "eng2sp"
   ]
  },
  {
   "cell_type": "markdown",
   "id": "12133fbc",
   "metadata": {},
   "source": [
    "Este formato de saída também é um formato de entrada. Por exemplo, você pode criar um dicionário com três itens:"
   ]
  },
  {
   "cell_type": "code",
   "execution_count": 77,
   "id": "eab2217d",
   "metadata": {},
   "outputs": [
    {
     "data": {
      "text/plain": [
       "{'one': 'uno', 'two': 'dos', 'three': 'tres'}"
      ]
     },
     "execution_count": 77,
     "metadata": {},
     "output_type": "execute_result"
    }
   ],
   "source": [
    "eng2sp = {'one': 'uno', 'two': 'dos', 'three': 'tres'}\n",
    "eng2sp"
   ]
  },
  {
   "cell_type": "markdown",
   "id": "6bccb8ac",
   "metadata": {},
   "source": [
    "Ué, mas a ordem parece diferente daquela que definimos, não? Se você digitar o mesmo exemplo no seu computador, pode receber um resultado diferente. Em geral, a ordem dos itens em um dicionário é imprevisível. No entanto, isso não é um problema porque os elementos de um dicionário nunca são indexados com índices de números inteiros. Em vez disso, você usa as chaves para procurar os valores correspondentes. A chave `'two'`, por exemplo sempre mapeia ao valor `'dos'`, assim a ordem dos itens não importa."
   ]
  },
  {
   "cell_type": "code",
   "execution_count": 78,
   "id": "fae234ec",
   "metadata": {},
   "outputs": [
    {
     "data": {
      "text/plain": [
       "'dos'"
      ]
     },
     "execution_count": 78,
     "metadata": {},
     "output_type": "execute_result"
    }
   ],
   "source": [
    "eng2sp['two']"
   ]
  },
  {
   "cell_type": "markdown",
   "id": "d6bb609c",
   "metadata": {},
   "source": [
    "Se a chave não estiver no dicionário, você recebe uma exceção:"
   ]
  },
  {
   "cell_type": "code",
   "execution_count": 79,
   "id": "37d814e0",
   "metadata": {},
   "outputs": [
    {
     "ename": "KeyError",
     "evalue": "'four'",
     "output_type": "error",
     "traceback": [
      "\u001b[1;31m---------------------------------------------------------------------------\u001b[0m",
      "\u001b[1;31mKeyError\u001b[0m                                  Traceback (most recent call last)",
      "Input \u001b[1;32mIn [79]\u001b[0m, in \u001b[0;36m<cell line: 1>\u001b[1;34m()\u001b[0m\n\u001b[1;32m----> 1\u001b[0m \u001b[43meng2sp\u001b[49m\u001b[43m[\u001b[49m\u001b[38;5;124;43m'\u001b[39;49m\u001b[38;5;124;43mfour\u001b[39;49m\u001b[38;5;124;43m'\u001b[39;49m\u001b[43m]\u001b[49m\n",
      "\u001b[1;31mKeyError\u001b[0m: 'four'"
     ]
    }
   ],
   "source": [
    "eng2sp['four']"
   ]
  },
  {
   "cell_type": "markdown",
   "id": "6d8a3e13",
   "metadata": {},
   "source": [
    "Assim como em strings e listas, a função `len` também é compatível com dicionários. Nesse caso ela devolve o número de pares chave-valor."
   ]
  },
  {
   "cell_type": "code",
   "execution_count": 80,
   "id": "1b0e197b",
   "metadata": {},
   "outputs": [
    {
     "data": {
      "text/plain": [
       "3"
      ]
     },
     "execution_count": 80,
     "metadata": {},
     "output_type": "execute_result"
    }
   ],
   "source": [
    "len(eng2sp)"
   ]
  },
  {
   "cell_type": "markdown",
   "id": "fc9e2792",
   "metadata": {},
   "source": [
    "O operador `in` funciona em dicionários também. Ele acusa se algo aparece como chave no dicionário (aparecer como valor não é o suficiente)."
   ]
  },
  {
   "cell_type": "code",
   "execution_count": 81,
   "id": "163d7625",
   "metadata": {},
   "outputs": [
    {
     "data": {
      "text/plain": [
       "True"
      ]
     },
     "execution_count": 81,
     "metadata": {},
     "output_type": "execute_result"
    }
   ],
   "source": [
    "'one' in eng2sp"
   ]
  },
  {
   "cell_type": "code",
   "execution_count": 82,
   "id": "09041987",
   "metadata": {},
   "outputs": [
    {
     "data": {
      "text/plain": [
       "False"
      ]
     },
     "execution_count": 82,
     "metadata": {},
     "output_type": "execute_result"
    }
   ],
   "source": [
    "'uno' in eng2sp"
   ]
  },
  {
   "cell_type": "markdown",
   "id": "270edc81",
   "metadata": {},
   "source": [
    "Para ver se algo aparece como um valor em um dicionário, você pode usar o método `values()`, que devolve uma coleção de valores, e então usar o operador `in`:"
   ]
  },
  {
   "cell_type": "code",
   "execution_count": 83,
   "id": "b41444d4",
   "metadata": {},
   "outputs": [
    {
     "data": {
      "text/plain": [
       "True"
      ]
     },
     "execution_count": 83,
     "metadata": {},
     "output_type": "execute_result"
    }
   ],
   "source": [
    "vals = eng2sp.values()\n",
    "'uno' in vals"
   ]
  },
  {
   "cell_type": "markdown",
   "id": "64c91ea5",
   "metadata": {},
   "source": [
    "## Operações básicas\n",
    "\n",
    "Podemos adicionar um novo par de chave e valor ao dicionário usando colchetes, mas caso a chave já exista no dicionário, podemos atualizar o valor."
   ]
  },
  {
   "cell_type": "code",
   "execution_count": 84,
   "id": "8abbcc29",
   "metadata": {},
   "outputs": [
    {
     "name": "stdout",
     "output_type": "stream",
     "text": [
      "{'one': 1, 'two': 2}\n"
     ]
    }
   ],
   "source": [
    "y = {}\n",
    "y['one'] = 1\n",
    "y['two'] = 2\n",
    "print(y)"
   ]
  },
  {
   "cell_type": "code",
   "execution_count": 85,
   "id": "de5210ac",
   "metadata": {},
   "outputs": [
    {
     "name": "stdout",
     "output_type": "stream",
     "text": [
      "{'one': 1, 'two': 'dos'}\n"
     ]
    }
   ],
   "source": [
    "y['two'] = 'dos'\n",
    "print(y)"
   ]
  },
  {
   "cell_type": "markdown",
   "id": "7e6f2af7",
   "metadata": {},
   "source": [
    "O valor-chave deve ser um tipo de dados imutável, por essa razão, se você tentar definir um dicionário com um tipo de dados mutável, o Python levantará um erro de exceção.\n",
    "\n",
    "A instrução `del` pode ser usada para remover uma entrada (par de valor de chave) de um dicionário."
   ]
  },
  {
   "cell_type": "code",
   "execution_count": 86,
   "id": "671a5953",
   "metadata": {},
   "outputs": [
    {
     "name": "stdout",
     "output_type": "stream",
     "text": [
      "{'one': 1, 'two': 2}\n"
     ]
    }
   ],
   "source": [
    "y = {'one': 1, 'two': 2}\n",
    "print(y)"
   ]
  },
  {
   "cell_type": "code",
   "execution_count": 87,
   "id": "ff1f5a24",
   "metadata": {},
   "outputs": [
    {
     "name": "stdout",
     "output_type": "stream",
     "text": [
      "{'one': 1}\n"
     ]
    }
   ],
   "source": [
    "del y['two']\n",
    "print(y)"
   ]
  },
  {
   "cell_type": "markdown",
   "id": "d09d4551",
   "metadata": {},
   "source": [
    "Mais uma vez, podemos utilizar a função nativa `len` para retornar o número de entradas (pares de valor de chave) em um dicionário."
   ]
  },
  {
   "cell_type": "code",
   "execution_count": 88,
   "id": "192d34cd",
   "metadata": {},
   "outputs": [
    {
     "name": "stdout",
     "output_type": "stream",
     "text": [
      "2\n"
     ]
    }
   ],
   "source": [
    "x = {'one': 0, 'two': 2}\n",
    "print(len(x))"
   ]
  },
  {
   "cell_type": "markdown",
   "id": "e4ac7494",
   "metadata": {},
   "source": [
    "Tente acessar uma chave que não está em um dicionário e você receberá um erro de exceção do Python. Para lidar com essa exceção, você pode usar mais uma vez o operador `in` que testa se existe uma chave em um dicionário. Esse operador retorna _True_ se o dicionário tiver um valor armazenado sob a chave fornecida e _Falso_ caso contrário."
   ]
  },
  {
   "cell_type": "code",
   "execution_count": 89,
   "id": "b81a749f",
   "metadata": {},
   "outputs": [
    {
     "ename": "KeyError",
     "evalue": "'three'",
     "output_type": "error",
     "traceback": [
      "\u001b[1;31m---------------------------------------------------------------------------\u001b[0m",
      "\u001b[1;31mKeyError\u001b[0m                                  Traceback (most recent call last)",
      "Input \u001b[1;32mIn [89]\u001b[0m, in \u001b[0;36m<cell line: 2>\u001b[1;34m()\u001b[0m\n\u001b[0;32m      1\u001b[0m y \u001b[38;5;241m=\u001b[39m {\u001b[38;5;124m'\u001b[39m\u001b[38;5;124mone\u001b[39m\u001b[38;5;124m'\u001b[39m: \u001b[38;5;241m1\u001b[39m, \u001b[38;5;124m'\u001b[39m\u001b[38;5;124mtwo\u001b[39m\u001b[38;5;124m'\u001b[39m: \u001b[38;5;241m2\u001b[39m}\n\u001b[1;32m----> 2\u001b[0m \u001b[38;5;28;01mdel\u001b[39;00m y[\u001b[38;5;124m'\u001b[39m\u001b[38;5;124mthree\u001b[39m\u001b[38;5;124m'\u001b[39m]\n",
      "\u001b[1;31mKeyError\u001b[0m: 'three'"
     ]
    }
   ],
   "source": [
    "y = {'one': 1, 'two': 2}\n",
    "del y['three']"
   ]
  },
  {
   "cell_type": "code",
   "execution_count": 90,
   "id": "ed611a56",
   "metadata": {},
   "outputs": [
    {
     "data": {
      "text/plain": [
       "False"
      ]
     },
     "execution_count": 90,
     "metadata": {},
     "output_type": "execute_result"
    }
   ],
   "source": [
    "'three' in y"
   ]
  },
  {
   "cell_type": "markdown",
   "id": "ae839232",
   "metadata": {},
   "source": [
    "## Métodos de dicionários\n",
    "\n",
    "Dentre os principais métodos aplicáveis a dicionários e suas funcionalidades podemos citar:\n",
    "<br><br>\n",
    "\n",
    "1. **dict_example.update(x)**: atualiza o dicionário \"dict_example\" com todos os pares de valor-chave de um segundo dicionário \"x\". Os valores de chaves, que são comuns a ambos os dicionários, do segundo dicionário irão se sobrepor aos valores das chaves do primeiro dicionário.\n",
    "<br>\n",
    "\n",
    "2. **dict_example.keys(x)**: permite que você obtenha todas as chaves no dicionário. Muitas vezes é usado dentro de uma série de instruções repetida várias vezes para iterar sobre o conteúdo de um dicionário.\n",
    "<br>\n",
    "\n",
    "3. **dict_example.items()**: retorna todas as chaves do dicionário \"dict_example\" e seus valores associados como uma sequência de tuplas.\n",
    "<br>\n",
    "\n",
    "4. **dict_example.get(x,y)**: devolve o valor associado a uma chave \"x\" se o dicionário contiver essa chave. Caso o dicionário não contenha a chave, você pode especificar um segundo argumento opcional \"y\" para retornar um valor padrão (se o argumento não estiver incluído o método retornará _None_).\n",
    "<br>\n",
    "\n",
    "5. **dict_example.setdefault(x,y)**: é semelhante ao método `get()`: ele retorna o valor associado a uma chave \"x\" se o dicionário contiver essa chave, mas caso o dicionário não contenha a chave, este método criará um novo elemento no dicionário (par de valor de chave), onde o primeiro argumento neste método é a chave, e o segundo argumento (\"y\") é o valor. O segundo argumento é opcional, mas se isso não for incluído, o valor atrelado a essa nova chave será _None_.\n",
    "<br>\n",
    "\n",
    "\n",
    "Além desses principais, existem outros vários métodos para dicionários. Esse [link](https://www.geeksforgeeks.org/python-dictionary-methods/) é um bom ponto de partida para quem quiser conhecer outros exemplos."
   ]
  },
  {
   "cell_type": "code",
   "execution_count": 91,
   "id": "001897cb",
   "metadata": {},
   "outputs": [
    {
     "name": "stdout",
     "output_type": "stream",
     "text": [
      "{'one': 0, 'two': 2}\n",
      "{'one': 1, 'two': 2, 'three': 3}\n"
     ]
    }
   ],
   "source": [
    "x = {'one': 0, 'two': 2}\n",
    "y = {'one': 1, 'three': 3}\n",
    "print(x)\n",
    "\n",
    "x.update(y)\n",
    "print(x)"
   ]
  },
  {
   "cell_type": "code",
   "execution_count": 92,
   "id": "9c8a1c44",
   "metadata": {},
   "outputs": [
    {
     "name": "stdout",
     "output_type": "stream",
     "text": [
      "dict_keys(['one', 'two'])\n"
     ]
    }
   ],
   "source": [
    "x = {'one': 1, 'two': 2}\n",
    "print(x.keys())"
   ]
  },
  {
   "cell_type": "code",
   "execution_count": 93,
   "id": "9b2e5fa2",
   "metadata": {},
   "outputs": [
    {
     "name": "stdout",
     "output_type": "stream",
     "text": [
      "dict_items([('one', 1), ('two', 2)])\n"
     ]
    }
   ],
   "source": [
    "x = {'one': 1, 'two': 2}\n",
    "print(x.items())"
   ]
  },
  {
   "cell_type": "code",
   "execution_count": 94,
   "id": "5815faba",
   "metadata": {},
   "outputs": [
    {
     "name": "stdout",
     "output_type": "stream",
     "text": [
      "1\n",
      "None\n",
      "The key does not exist.\n"
     ]
    }
   ],
   "source": [
    "y = {'one': 1, 'two': 2}\n",
    "print(y.get('one'))\n",
    "print(y.get('three'))\n",
    "print(y.get('three', 'The key does not exist.'))"
   ]
  },
  {
   "cell_type": "code",
   "execution_count": 95,
   "id": "b758952e",
   "metadata": {},
   "outputs": [
    {
     "name": "stdout",
     "output_type": "stream",
     "text": [
      "3\n",
      "2\n",
      "{'one': 1, 'two': 2, 'three': '3'}\n"
     ]
    }
   ],
   "source": [
    "y = {'one': 1, 'two': 2}\n",
    "print(y.setdefault('three', '3'))\n",
    "print(y.setdefault('two', 'dos'))\n",
    "print(y)"
   ]
  },
  {
   "cell_type": "code",
   "execution_count": 96,
   "id": "433a1bf8",
   "metadata": {},
   "outputs": [
    {
     "name": "stdout",
     "output_type": "stream",
     "text": [
      "None\n",
      "{'one': 1, 'two': 2, 'three': '3', 'four': None}\n"
     ]
    }
   ],
   "source": [
    "print(y.setdefault('four'))\n",
    "print(y)"
   ]
  },
  {
   "cell_type": "markdown",
   "id": "56bcfc41-5f69-462a-8f22-b63fc5f2d5d0",
   "metadata": {},
   "source": [
    "# Exercícios\n",
    "\n",
    "1. Considere a seguinte lista: `fruit = ['pear', 'orange', 'apple', 'grapefruit', 'apple', 'pear']`. Use uma função de lista para dizer o índice da primeira ocorrência de `apple`\n",
    "\n",
    "2. Usando a lista do exercício anterior, use uma função de lista para retornar o número de veze que `apple` ocorre.\n",
    "\n",
    "3. Existem duas listas abaixo. Escreva um programa que as converta em um dicionário em que o item de `keys` é a chave e o item de `values` é o valor\n",
    "\n",
    "```python\n",
    "keys = ['Ten', 'Twenty', 'Thirty']\n",
    "values = [10, 20, 30]\n",
    "```\n",
    "\n",
    "**Output esperado do último exercício**\n",
    "```python\n",
    "{'Ten': 10, 'Twenty': 20, 'Thirty': 30}\n",
    "```"
   ]
  }
 ],
 "metadata": {
  "kernelspec": {
   "display_name": "Python 3 (ipykernel)",
   "language": "python",
   "name": "python3"
  },
  "language_info": {
   "codemirror_mode": {
    "name": "ipython",
    "version": 3
   },
   "file_extension": ".py",
   "mimetype": "text/x-python",
   "name": "python",
   "nbconvert_exporter": "python",
   "pygments_lexer": "ipython3",
   "version": "3.9.12"
  },
  "toc": {
   "base_numbering": 1,
   "nav_menu": {},
   "number_sections": true,
   "sideBar": true,
   "skip_h1_title": false,
   "title_cell": "Plano de aula",
   "title_sidebar": "Contents",
   "toc_cell": true,
   "toc_position": {
    "height": "calc(100% - 180px)",
    "left": "10px",
    "top": "150px",
    "width": "333.6px"
   },
   "toc_section_display": true,
   "toc_window_display": true
  },
  "varInspector": {
   "cols": {
    "lenName": 16,
    "lenType": 16,
    "lenVar": 40
   },
   "kernels_config": {
    "python": {
     "delete_cmd_postfix": "",
     "delete_cmd_prefix": "del ",
     "library": "var_list.py",
     "varRefreshCmd": "print(var_dic_list())"
    },
    "r": {
     "delete_cmd_postfix": ") ",
     "delete_cmd_prefix": "rm(",
     "library": "var_list.r",
     "varRefreshCmd": "cat(var_dic_list()) "
    }
   },
   "oldHeight": 122.85,
   "position": {
    "height": "40px",
    "left": "1266px",
    "right": "20px",
    "top": "120px",
    "width": "250px"
   },
   "types_to_exclude": [
    "module",
    "function",
    "builtin_function_or_method",
    "instance",
    "_Feature"
   ],
   "varInspector_section_display": "none",
   "window_display": true
  }
 },
 "nbformat": 4,
 "nbformat_minor": 5
}
